{
  "nbformat": 4,
  "nbformat_minor": 0,
  "metadata": {
    "colab": {
      "provenance": []
    },
    "kernelspec": {
      "name": "python3",
      "display_name": "Python 3"
    },
    "language_info": {
      "name": "python"
    }
  },
  "cells": [
    {
      "cell_type": "markdown",
      "source": [
        "# **Resume Scoring**\n",
        "\n",
        "**Meghna Lohani 16BCE1395**\n",
        "\n",
        "**Aman Sharma 16BCE1224**\n",
        "\n",
        "# **Workflow**\n",
        "\n",
        "1.Creating corpus using Sketch Engine\n",
        "\n",
        "2.Creating word embedding using Genism , Word2Vec\n",
        "\n",
        "3.Preprocessing\n",
        "\n",
        "4.Removing common words that are not required\n",
        "\n",
        "5.Creating phrases of words that frequently occur togther (bigrams)\n",
        "\n",
        "6.Building word2vec model\n",
        "\n",
        "7.Extracting resumes (using PyPDF) and converting to string\n",
        "\n",
        "8.Building candidate profile using model.most_similar(skills), where skills is an array of required skills\n",
        "\n",
        "9.Creating a matcher using Spacy to match the wods in resume to most_similar(skills)\n",
        "\n",
        "10.Printing and visualizing the candidate profile\n",
        "\n",
        "# **Creating Corpus using sketch Engine**\n",
        "\n",
        "We used SketchEngine to create a corpus, wikipedia pages were given as input"
      ],
      "metadata": {
        "id": "zPf_nrqg40ol"
      }
    },
    {
      "cell_type": "code",
      "execution_count": null,
      "metadata": {
        "id": "ORIqLBGm3J1Z"
      },
      "outputs": [],
      "source": [
        "from PIL import Image"
      ]
    },
    {
      "cell_type": "markdown",
      "source": [
        "# **Creating word embedding**"
      ],
      "metadata": {
        "id": "0P6dZCx046Ox"
      }
    },
    {
      "cell_type": "code",
      "source": [
        "from gensim.models import Word2Vec\n",
        "import string\n",
        "import re\n",
        "from nltk.corpus import stopwords\n",
        "with open('/content/skills.txt',encoding=\"utf8\") as f:\n",
        "    content = f.readlines()\n",
        "# you may also want to remove whitespace characters like `\\n` at the end of each line\n",
        "content = [x.strip() for x in content]"
      ],
      "metadata": {
        "id": "55RpVadz3M5a"
      },
      "execution_count": null,
      "outputs": []
    },
    {
      "cell_type": "code",
      "source": [
        "content[1]"
      ],
      "metadata": {
        "colab": {
          "base_uri": "https://localhost:8080/",
          "height": 157
        },
        "id": "jZhJizR_3UxU",
        "outputId": "bdf8d04a-3acb-4458-d4e5-2969532e3ba8"
      },
      "execution_count": null,
      "outputs": [
        {
          "output_type": "execute_result",
          "data": {
            "text/plain": [
              "'Data science is a \"concept to unify statistics, data analysis, machine learning and their related methods\" in order to \"understand and analyze actual phenomena\" with data. It employs techniques and theories drawn from many fields within the context of mathematics, statistics, information science, and computer science. Turing award winner Jim Gray imagined data science as a \"fourth paradigm\" of science (empirical, theoretical, computational and now data-driven) and asserted that \"everything about science is changing because of the impact of information technology\" and the data deluge.'"
            ],
            "application/vnd.google.colaboratory.intrinsic+json": {
              "type": "string"
            }
          },
          "metadata": {},
          "execution_count": 5
        }
      ]
    },
    {
      "cell_type": "code",
      "source": [
        "from nltk.tokenize import word_tokenize\n",
        "import gensim\n",
        "from gensim.models.phrases import Phraser, Phrases"
      ],
      "metadata": {
        "id": "Uby7SNaZ3gCs"
      },
      "execution_count": null,
      "outputs": []
    },
    {
      "cell_type": "markdown",
      "source": [
        "# **Preprocessing**"
      ],
      "metadata": {
        "id": "vO2zh7zt5Ael"
      }
    },
    {
      "cell_type": "code",
      "source": [
        "import nltk\n",
        "nltk.download('punkt')\n",
        "nltk.download('stopwords')"
      ],
      "metadata": {
        "colab": {
          "base_uri": "https://localhost:8080/"
        },
        "id": "r4a5bAFe3lFo",
        "outputId": "cdfdc0ed-97d4-4d2d-dbb9-ca85aa5936d9"
      },
      "execution_count": null,
      "outputs": [
        {
          "output_type": "stream",
          "name": "stderr",
          "text": [
            "[nltk_data] Downloading package punkt to /root/nltk_data...\n",
            "[nltk_data]   Unzipping tokenizers/punkt.zip.\n",
            "[nltk_data] Downloading package stopwords to /root/nltk_data...\n",
            "[nltk_data]   Unzipping corpora/stopwords.zip.\n"
          ]
        },
        {
          "output_type": "execute_result",
          "data": {
            "text/plain": [
              "True"
            ]
          },
          "metadata": {},
          "execution_count": 8
        }
      ]
    },
    {
      "cell_type": "code",
      "source": [
        "x=[]\n",
        "for line in content:\n",
        "    tokens=word_tokenize(line)\n",
        "    tok=[w.lower() for w in tokens]\n",
        "    table=str.maketrans('','',string.punctuation)\n",
        "    strpp=[w.translate(table) for w in tok]\n",
        "    words=[word for word in strpp if word.isalpha()]\n",
        "    stop_words=set(stopwords.words('english'))\n",
        "    words=[w for w in words if not w in stop_words]\n",
        "    x.append(words)"
      ],
      "metadata": {
        "id": "KO3gokcM3gTi"
      },
      "execution_count": null,
      "outputs": []
    },
    {
      "cell_type": "code",
      "source": [
        "texts=x"
      ],
      "metadata": {
        "id": "qH42QEwF3h83"
      },
      "execution_count": null,
      "outputs": []
    },
    {
      "cell_type": "code",
      "source": [
        "print(texts[6])"
      ],
      "metadata": {
        "colab": {
          "base_uri": "https://localhost:8080/"
        },
        "id": "HOVEyriI3pN2",
        "outputId": "1207ca55-b4c0-4806-f6e5-45b1adcd6638"
      },
      "execution_count": null,
      "outputs": [
        {
          "output_type": "stream",
          "name": "stdout",
          "text": [
            "['william', 'cleveland', 'introduced', 'data', 'science', 'independent', 'discipline', 'extending', 'field', 'statistics', 'incorporate', 'advances', 'computing', 'data', 'article', 'data', 'science', 'action', 'plan', 'expanding', 'technical', 'areas', 'field', 'statistics', 'published', 'volume', 'april', 'edition', 'international', 'statistical', 'review', 'revue', 'internationale', 'de', 'statistique', 'report', 'cleveland', 'establishes', 'six', 'technical', 'areas', 'believed', 'encompass', 'field', 'data', 'science', 'multidisciplinary', 'investigations', 'models', 'methods', 'data', 'computing', 'data', 'pedagogy', 'tool', 'evaluation', 'theory']\n"
          ]
        }
      ]
    },
    {
      "cell_type": "code",
      "source": [
        "print(len(texts))\n",
        "texts=texts"
      ],
      "metadata": {
        "colab": {
          "base_uri": "https://localhost:8080/"
        },
        "id": "BidM2In13pWM",
        "outputId": "a3d59eeb-3c47-4027-91f8-63f7937eaf34"
      },
      "execution_count": null,
      "outputs": [
        {
          "output_type": "stream",
          "name": "stdout",
          "text": [
            "316\n"
          ]
        }
      ]
    },
    {
      "cell_type": "markdown",
      "source": [
        "# **Creating bigrams**"
      ],
      "metadata": {
        "id": "ltByKjE_5WJN"
      }
    },
    {
      "cell_type": "code",
      "source": [
        "common_terms = [\"of\", \"with\", \"without\", \"and\", \"or\", \"the\", \"a\"]\n",
        "x=texts\n",
        "# Create the relevant phrases from the list of sentences:\n",
        "phrases = Phrases(x, common_terms=common_terms)\n",
        "# The Phraser object is used from now on to transform sentences\n",
        "bigram = Phraser(phrases)\n",
        "# Applying the Phraser to transform our sentences\n",
        "all_sentences = list(bigram[x])\n",
        "model=gensim.models.Word2Vec(all_sentences,size=5000,min_count=2,workers=4,window=4)\n",
        "model.save(\"final.model\")\n",
        "wrds=list(model.wv.vocab)\n",
        "print(len(wrds))"
      ],
      "metadata": {
        "colab": {
          "base_uri": "https://localhost:8080/"
        },
        "id": "yrnfzljc3tig",
        "outputId": "66b7be0a-4d2b-4ef6-a40b-aed29eec8a5d"
      },
      "execution_count": null,
      "outputs": [
        {
          "output_type": "stream",
          "name": "stderr",
          "text": [
            "WARNING:gensim.models.base_any2vec:under 10 jobs per worker: consider setting a smaller `batch_words' for smoother alpha decay\n"
          ]
        },
        {
          "output_type": "stream",
          "name": "stdout",
          "text": [
            "1286\n"
          ]
        }
      ]
    },
    {
      "cell_type": "markdown",
      "source": [
        "# **Testing**"
      ],
      "metadata": {
        "id": "qwTlsxP55b3J"
      }
    },
    {
      "cell_type": "code",
      "source": [
        "z=model.wv.most_similar(\"machine_learning\")"
      ],
      "metadata": {
        "id": "xGVkT7NY3vvf"
      },
      "execution_count": null,
      "outputs": []
    },
    {
      "cell_type": "code",
      "source": [
        "print(z)"
      ],
      "metadata": {
        "colab": {
          "base_uri": "https://localhost:8080/"
        },
        "id": "Yi7-rHgp3zo0",
        "outputId": "32fb238a-eccc-4a38-b904-a52475be0cb2"
      },
      "execution_count": null,
      "outputs": [
        {
          "output_type": "stream",
          "name": "stdout",
          "text": [
            "[('software', 0.17674210667610168), ('data', 0.16679146885871887), ('deep_learning', 0.16546928882598877), ('information', 0.15939128398895264), ('may', 0.1477000117301941), ('data_science', 0.13868102431297302), ('system', 0.1364508867263794), ('language', 0.13599902391433716), ('models', 0.1353144645690918), ('development', 0.13287463784217834)]\n"
          ]
        }
      ]
    },
    {
      "cell_type": "markdown",
      "source": [
        "# **Resume Parsing**"
      ],
      "metadata": {
        "id": "_Kq3z5M55e-L"
      }
    },
    {
      "cell_type": "code",
      "source": [
        "!pip install PyPDF2"
      ],
      "metadata": {
        "colab": {
          "base_uri": "https://localhost:8080/"
        },
        "id": "udKPdo0232fQ",
        "outputId": "bd0816dd-3644-474e-ba31-f907d2602d89"
      },
      "execution_count": null,
      "outputs": [
        {
          "output_type": "stream",
          "name": "stdout",
          "text": [
            "Looking in indexes: https://pypi.org/simple, https://us-python.pkg.dev/colab-wheels/public/simple/\n",
            "Collecting PyPDF2\n",
            "  Downloading pypdf2-2.11.2-py3-none-any.whl (220 kB)\n",
            "\u001b[K     |████████████████████████████████| 220 kB 4.7 MB/s \n",
            "\u001b[?25hRequirement already satisfied: typing_extensions>=3.10.0.0 in /usr/local/lib/python3.7/dist-packages (from PyPDF2) (4.1.1)\n",
            "Installing collected packages: PyPDF2\n",
            "Successfully installed PyPDF2-2.11.2\n"
          ]
        }
      ]
    },
    {
      "cell_type": "code",
      "source": [
        "import PyPDF2\n",
        "import os\n",
        "import collections\n",
        "from os import listdir\n",
        "from os.path import isfile, join\n",
        "from io import StringIO\n",
        "import pandas as pd\n",
        "from collections import Counter\n",
        "import en_core_web_sm\n",
        "nlp = en_core_web_sm.load()\n",
        "from spacy.matcher import PhraseMatcher"
      ],
      "metadata": {
        "colab": {
          "base_uri": "https://localhost:8080/"
        },
        "id": "9ntmhLX536JT",
        "outputId": "de72ac16-ed8a-4aa9-8326-d91934d0566c"
      },
      "execution_count": null,
      "outputs": [
        {
          "output_type": "stream",
          "name": "stderr",
          "text": [
            "/usr/local/lib/python3.7/dist-packages/spacy/language.py:1899: UserWarning: [W123] Argument disable with value [] is used instead of ['senter'] as specified in the config. Be aware that this might affect other components in your pipeline.\n",
            "  config_value=config[\"nlp\"][key],\n"
          ]
        }
      ]
    },
    {
      "cell_type": "markdown",
      "source": [
        "**Reading Resumes from folder**"
      ],
      "metadata": {
        "id": "DXt2Mzp95ivz"
      }
    },
    {
      "cell_type": "code",
      "source": [
        "mypath=\"/content/Resume\"\n",
        "#Path for the files\n",
        "onlyfiles = [os.path.join(mypath, f) for f in os.listdir(mypath) if os.path.isfile(os.path.join(mypath, f))]"
      ],
      "metadata": {
        "id": "ozIwv-d037yK"
      },
      "execution_count": null,
      "outputs": []
    },
    {
      "cell_type": "markdown",
      "source": [
        "**Function to words from resume**"
      ],
      "metadata": {
        "id": "gsTc6aYg5kO0"
      }
    },
    {
      "cell_type": "code",
      "source": [
        "import collections\n",
        "def pdfextract(file):\n",
        "    pdf_file = open(file, 'rb')\n",
        "    read_pdf = PyPDF2.PdfFileReader(pdf_file)\n",
        "    number_of_pages = read_pdf.getNumPages()\n",
        "    c = collections.Counter(range(number_of_pages))\n",
        "    for i in c:\n",
        "        #page\n",
        "        page = read_pdf.getPage(i)\n",
        "        page_content = page.extractText()\n",
        "    return (page_content.encode('utf-8'))"
      ],
      "metadata": {
        "id": "l-5HlgQ23_e2"
      },
      "execution_count": null,
      "outputs": []
    },
    {
      "cell_type": "code",
      "source": [
        "sim_words=[k[0] for k in model.wv.most_similar(\"machine_learning\")]"
      ],
      "metadata": {
        "id": "jG89-9GA4UNC"
      },
      "execution_count": null,
      "outputs": []
    },
    {
      "cell_type": "code",
      "source": [
        "def create_bigram(words):\n",
        "    common_terms = [\"of\", \"with\", \"without\", \"and\", \"or\", \"the\", \"a\"]\n",
        "    x=words.split()\n",
        "# Create the relevant phrases from the list of sentences:\n",
        "    phrases = Phrases(x, common_terms=common_terms)\n",
        "# The Phraser object is used from now on to transform sentences\n",
        "    bigram = Phraser(phrases)\n",
        "# Applying the Phraser to transform our sentences is simply\n",
        "    all_sentences = list(bigram[x])"
      ],
      "metadata": {
        "id": "4lAldma74WFS"
      },
      "execution_count": null,
      "outputs": []
    },
    {
      "cell_type": "markdown",
      "source": [
        "**Function to build candidate profile**"
      ],
      "metadata": {
        "id": "uv7Cyhgp5qm2"
      }
    },
    {
      "cell_type": "code",
      "source": [
        "def create_profile(file):\n",
        "    model=Word2Vec.load(\"final.model\")\n",
        "    text = str(pdfextract(file))\n",
        "    text = text.replace(\"\\\\n\", \"\")\n",
        "    text = text.lower()\n",
        "    #print(text)\n",
        "    #text=create_bigram(text)\n",
        "    #print(text)\n",
        "    #below is the csv where we have all the keywords, you can customize your own\n",
        "    #keyword_dictionary = pd.read_csv(r'C:\\Users\\dell\\Desktop\\New folder\\ML_CS\\NLP\\technical_skills.csv')\n",
        "    stats = [nlp(text[0]) for text in model.wv.most_similar(\"statistics\")]\n",
        "    NLP = [nlp(text[0]) for text in model.wv.most_similar(\"language\")]\n",
        "    ML = [nlp(text[0]) for text in model.wv.most_similar(\"machine_learning\")]\n",
        "    DL = [nlp(text[0]) for text in model.wv.most_similar(\"deep\")]\n",
        "    #R = [nlp(text) for text in keyword_dictionary['R Language'].dropna(axis = 0)]\n",
        "    python = [nlp(text[0]) for text in model.wv.most_similar(\"python\")]\n",
        "    Data_Engineering = [nlp(text[0]) for text in model.wv.most_similar(\"data\")]\n",
        "    print(\"*******************************************\")\n",
        "    #print(stats_words,NLP_words)\n",
        "    matcher = PhraseMatcher(nlp.vocab)\n",
        "    matcher.add('Stats', None, *stats)\n",
        "    matcher.add('NLP', None, *NLP)\n",
        "    matcher.add('ML', None, *ML)\n",
        "    matcher.add('DL', None, *DL)\n",
        "    matcher.add('Python', None, *python)\n",
        "    matcher.add('DE', None, *Data_Engineering)\n",
        "    doc = nlp(text)\n",
        "\n",
        "    d = []  \n",
        "    matches = matcher(doc)\n",
        "    for match_id, start, end in matches:\n",
        "        rule_id = nlp.vocab.strings[match_id]  # get the unicode I\n",
        "        span = doc[start : end]               # get the matched slice of the doc\n",
        "        d.append((rule_id, span.text))      \n",
        "    keywords = \"\\n\".join(f'{i[0]} {i[1]} ({j})' for i,j in Counter(d).items())\n",
        "    print(\"KEYWORDS\")\n",
        "    print(keywords)\n",
        "    \n",
        "    ## convertimg string of keywords to dataframe\n",
        "    df = pd.read_csv(StringIO(keywords),names = ['Keywords_List'])\n",
        "    df1 = pd.DataFrame(df.Keywords_List.str.split(' ',1).tolist(),columns = ['Subject','Keyword'])\n",
        "    df2 = pd.DataFrame(df1.Keyword.str.split('(',1).tolist(),columns = ['Keyword', 'Count'])\n",
        "    df3 = pd.concat([df1['Subject'],df2['Keyword'], df2['Count']], axis =1) \n",
        "    df3['Count'] = df3['Count'].apply(lambda x: x.rstrip(\")\"))\n",
        "    print(\"********************DF********************\")\n",
        "    print(df)\n",
        "    \n",
        "    base = os.path.basename(file)\n",
        "    filename = os.path.splitext(base)[0]\n",
        "    \n",
        "       \n",
        "    name = filename.split('_')\n",
        "    print(name)\n",
        "    name2 = name[0]\n",
        "    name2 = name2.lower()\n",
        "    ## converting str to dataframe\n",
        "    name3 = pd.read_csv(StringIO(name2),names = ['Candidate Name'])\n",
        "    \n",
        "    dataf = pd.concat([name3['Candidate Name'], df3['Subject'], df3['Keyword'], df3['Count']], axis = 1)\n",
        "    dataf['Candidate Name'].fillna(dataf['Candidate Name'].iloc[0], inplace = True)\n",
        "    print(\"******************DATAF**************\")\n",
        "    print(dataf)\n",
        "\n",
        "    return(dataf)\n"
      ],
      "metadata": {
        "id": "mIazS2hi4Y2L"
      },
      "execution_count": null,
      "outputs": []
    },
    {
      "cell_type": "markdown",
      "source": [
        "**Code to execute the above functions**"
      ],
      "metadata": {
        "id": "qoU7Xijf5yuC"
      }
    },
    {
      "cell_type": "code",
      "source": [
        "#Code to execute the above functions \n",
        "final_db=pd.DataFrame()\n",
        "i=0\n",
        "while i < len(onlyfiles):\n",
        "    file=onlyfiles[i]\n",
        "    # print(file)\n",
        "    dat=create_profile(file)\n",
        "    final_db=final_db.append(dat)\n",
        "    i+=1\n",
        "    #print(final_db)"
      ],
      "metadata": {
        "colab": {
          "base_uri": "https://localhost:8080/"
        },
        "id": "XdjvJ6-V4arL",
        "outputId": "041a95ac-90b5-4220-cba6-6642cdc7c2cf"
      },
      "execution_count": null,
      "outputs": [
        {
          "output_type": "stream",
          "name": "stdout",
          "text": [
            "*******************************************\n",
            "KEYWORDS\n",
            "DL using (4)\n",
            "********************DF********************\n",
            "  Keywords_List\n",
            "0  DL using (4)\n",
            "['VAISHALI BIJOY']\n",
            "******************DATAF**************\n",
            "   Candidate Name Subject Keyword Count\n",
            "0  vaishali bijoy      DL  using      4\n",
            "*******************************************\n",
            "KEYWORDS\n",
            "DL using (5)\n",
            "NLP deep (1)\n",
            "DE learning (1)\n",
            "********************DF********************\n",
            "     Keywords_List\n",
            "0     DL using (5)\n",
            "1     NLP deep (1)\n",
            "2  DE learning (1)\n",
            "['Phoebe Buffay']\n",
            "******************DATAF**************\n",
            "  Candidate Name Subject    Keyword Count\n",
            "0  phoebe buffay      DL     using      5\n",
            "1  phoebe buffay     NLP      deep      1\n",
            "2  phoebe buffay      DE  learning      1\n",
            "*******************************************\n",
            "KEYWORDS\n",
            "ML data (1)\n",
            "NLP data (1)\n",
            "Stats data (1)\n",
            "DL data (1)\n",
            "Python data (1)\n",
            "DL using (3)\n",
            "********************DF********************\n",
            "     Keywords_List\n",
            "0      ML data (1)\n",
            "1     NLP data (1)\n",
            "2   Stats data (1)\n",
            "3      DL data (1)\n",
            "4  Python data (1)\n",
            "5     DL using (3)\n",
            "['MeghnaLohani']\n",
            "******************DATAF**************\n",
            "  Candidate Name Subject Keyword Count\n",
            "0   meghnalohani      ML   data      1\n",
            "1   meghnalohani     NLP   data      1\n",
            "2   meghnalohani   Stats   data      1\n",
            "3   meghnalohani      DL   data      1\n",
            "4   meghnalohani  Python   data      1\n",
            "5   meghnalohani      DL  using      3\n",
            "*******************************************\n",
            "KEYWORDS\n",
            "DL using (4)\n",
            "********************DF********************\n",
            "  Keywords_List\n",
            "0  DL using (4)\n",
            "['Chandler']\n",
            "******************DATAF**************\n",
            "  Candidate Name Subject Keyword Count\n",
            "0       chandler      DL  using      4\n",
            "*******************************************\n",
            "KEYWORDS\n",
            "ML may (3)\n",
            "NLP may (3)\n",
            "Stats may (3)\n",
            "DE may (3)\n",
            "DL may (3)\n",
            "Python may (3)\n",
            "Stats programming (1)\n",
            "DE programming (1)\n",
            "Python programming (1)\n",
            "Python systems (1)\n",
            "ML software (1)\n",
            "NLP software (1)\n",
            "Stats software (1)\n",
            "DE software (1)\n",
            "DL software (1)\n",
            "Python software (1)\n",
            "ML data (3)\n",
            "NLP data (3)\n",
            "Stats data (3)\n",
            "DL data (3)\n",
            "Python data (3)\n",
            "Stats c (1)\n",
            "NLP c (1)\n",
            "Python c (1)\n",
            "********************DF********************\n",
            "             Keywords_List\n",
            "0               ML may (3)\n",
            "1              NLP may (3)\n",
            "2            Stats may (3)\n",
            "3               DE may (3)\n",
            "4               DL may (3)\n",
            "5           Python may (3)\n",
            "6    Stats programming (1)\n",
            "7       DE programming (1)\n",
            "8   Python programming (1)\n",
            "9       Python systems (1)\n",
            "10         ML software (1)\n",
            "11        NLP software (1)\n",
            "12      Stats software (1)\n",
            "13         DE software (1)\n",
            "14         DL software (1)\n",
            "15     Python software (1)\n",
            "16             ML data (3)\n",
            "17            NLP data (3)\n",
            "18          Stats data (3)\n",
            "19             DL data (3)\n",
            "20         Python data (3)\n",
            "21             Stats c (1)\n",
            "22               NLP c (1)\n",
            "23            Python c (1)\n",
            "['AmanSharma']\n",
            "******************DATAF**************\n",
            "   Candidate Name Subject       Keyword Count\n",
            "0      amansharma      ML          may      3\n",
            "1      amansharma     NLP          may      3\n",
            "2      amansharma   Stats          may      3\n",
            "3      amansharma      DE          may      3\n",
            "4      amansharma      DL          may      3\n",
            "5      amansharma  Python          may      3\n",
            "6      amansharma   Stats  programming      1\n",
            "7      amansharma      DE  programming      1\n",
            "8      amansharma  Python  programming      1\n",
            "9      amansharma  Python      systems      1\n",
            "10     amansharma      ML     software      1\n",
            "11     amansharma     NLP     software      1\n",
            "12     amansharma   Stats     software      1\n",
            "13     amansharma      DE     software      1\n",
            "14     amansharma      DL     software      1\n",
            "15     amansharma  Python     software      1\n",
            "16     amansharma      ML         data      3\n",
            "17     amansharma     NLP         data      3\n",
            "18     amansharma   Stats         data      3\n",
            "19     amansharma      DL         data      3\n",
            "20     amansharma  Python         data      3\n",
            "21     amansharma   Stats            c      1\n",
            "22     amansharma     NLP            c      1\n",
            "23     amansharma  Python            c      1\n"
          ]
        }
      ]
    },
    {
      "cell_type": "markdown",
      "source": [
        "**Counting words under each category and building the candidate profile**"
      ],
      "metadata": {
        "id": "RhULoAOP52l5"
      }
    },
    {
      "cell_type": "code",
      "source": [
        "#Code to count words under each category and visualize it through MAtplotlib\n",
        "final_db2 = final_db['Keyword'].groupby([final_db['Candidate Name'], final_db['Subject']]).count().unstack()\n",
        "final_db2.reset_index(inplace = True)\n",
        "final_db2.fillna(0,inplace=True)\n",
        "candidate_data = final_db2.iloc[:,1:]\n",
        "candidate_data.index = final_db2['Candidate Name']\n",
        "#the candidate profile in a csv format\n",
        "cand=candidate_data.to_csv('candidate_profile.csv')\n",
        "cand_profile=pd.read_csv('candidate_profile.csv')\n",
        "cand_profile"
      ],
      "metadata": {
        "colab": {
          "base_uri": "https://localhost:8080/",
          "height": 206
        },
        "id": "7uxktPru4cdK",
        "outputId": "c30c69fa-c6d8-4a95-aa0c-b4b482ebd4bb"
      },
      "execution_count": null,
      "outputs": [
        {
          "output_type": "execute_result",
          "data": {
            "text/plain": [
              "   Candidate Name   DE   DL   ML  NLP  Python  Stats\n",
              "0      amansharma  3.0  3.0  3.0  4.0     6.0    5.0\n",
              "1        chandler  0.0  1.0  0.0  0.0     0.0    0.0\n",
              "2    meghnalohani  0.0  2.0  1.0  1.0     1.0    1.0\n",
              "3   phoebe buffay  1.0  1.0  0.0  1.0     0.0    0.0\n",
              "4  vaishali bijoy  0.0  1.0  0.0  0.0     0.0    0.0"
            ],
            "text/html": [
              "\n",
              "  <div id=\"df-32832513-8ecb-4ba2-bef6-2233d37dd0ba\">\n",
              "    <div class=\"colab-df-container\">\n",
              "      <div>\n",
              "<style scoped>\n",
              "    .dataframe tbody tr th:only-of-type {\n",
              "        vertical-align: middle;\n",
              "    }\n",
              "\n",
              "    .dataframe tbody tr th {\n",
              "        vertical-align: top;\n",
              "    }\n",
              "\n",
              "    .dataframe thead th {\n",
              "        text-align: right;\n",
              "    }\n",
              "</style>\n",
              "<table border=\"1\" class=\"dataframe\">\n",
              "  <thead>\n",
              "    <tr style=\"text-align: right;\">\n",
              "      <th></th>\n",
              "      <th>Candidate Name</th>\n",
              "      <th>DE</th>\n",
              "      <th>DL</th>\n",
              "      <th>ML</th>\n",
              "      <th>NLP</th>\n",
              "      <th>Python</th>\n",
              "      <th>Stats</th>\n",
              "    </tr>\n",
              "  </thead>\n",
              "  <tbody>\n",
              "    <tr>\n",
              "      <th>0</th>\n",
              "      <td>amansharma</td>\n",
              "      <td>3.0</td>\n",
              "      <td>3.0</td>\n",
              "      <td>3.0</td>\n",
              "      <td>4.0</td>\n",
              "      <td>6.0</td>\n",
              "      <td>5.0</td>\n",
              "    </tr>\n",
              "    <tr>\n",
              "      <th>1</th>\n",
              "      <td>chandler</td>\n",
              "      <td>0.0</td>\n",
              "      <td>1.0</td>\n",
              "      <td>0.0</td>\n",
              "      <td>0.0</td>\n",
              "      <td>0.0</td>\n",
              "      <td>0.0</td>\n",
              "    </tr>\n",
              "    <tr>\n",
              "      <th>2</th>\n",
              "      <td>meghnalohani</td>\n",
              "      <td>0.0</td>\n",
              "      <td>2.0</td>\n",
              "      <td>1.0</td>\n",
              "      <td>1.0</td>\n",
              "      <td>1.0</td>\n",
              "      <td>1.0</td>\n",
              "    </tr>\n",
              "    <tr>\n",
              "      <th>3</th>\n",
              "      <td>phoebe buffay</td>\n",
              "      <td>1.0</td>\n",
              "      <td>1.0</td>\n",
              "      <td>0.0</td>\n",
              "      <td>1.0</td>\n",
              "      <td>0.0</td>\n",
              "      <td>0.0</td>\n",
              "    </tr>\n",
              "    <tr>\n",
              "      <th>4</th>\n",
              "      <td>vaishali bijoy</td>\n",
              "      <td>0.0</td>\n",
              "      <td>1.0</td>\n",
              "      <td>0.0</td>\n",
              "      <td>0.0</td>\n",
              "      <td>0.0</td>\n",
              "      <td>0.0</td>\n",
              "    </tr>\n",
              "  </tbody>\n",
              "</table>\n",
              "</div>\n",
              "      <button class=\"colab-df-convert\" onclick=\"convertToInteractive('df-32832513-8ecb-4ba2-bef6-2233d37dd0ba')\"\n",
              "              title=\"Convert this dataframe to an interactive table.\"\n",
              "              style=\"display:none;\">\n",
              "        \n",
              "  <svg xmlns=\"http://www.w3.org/2000/svg\" height=\"24px\"viewBox=\"0 0 24 24\"\n",
              "       width=\"24px\">\n",
              "    <path d=\"M0 0h24v24H0V0z\" fill=\"none\"/>\n",
              "    <path d=\"M18.56 5.44l.94 2.06.94-2.06 2.06-.94-2.06-.94-.94-2.06-.94 2.06-2.06.94zm-11 1L8.5 8.5l.94-2.06 2.06-.94-2.06-.94L8.5 2.5l-.94 2.06-2.06.94zm10 10l.94 2.06.94-2.06 2.06-.94-2.06-.94-.94-2.06-.94 2.06-2.06.94z\"/><path d=\"M17.41 7.96l-1.37-1.37c-.4-.4-.92-.59-1.43-.59-.52 0-1.04.2-1.43.59L10.3 9.45l-7.72 7.72c-.78.78-.78 2.05 0 2.83L4 21.41c.39.39.9.59 1.41.59.51 0 1.02-.2 1.41-.59l7.78-7.78 2.81-2.81c.8-.78.8-2.07 0-2.86zM5.41 20L4 18.59l7.72-7.72 1.47 1.35L5.41 20z\"/>\n",
              "  </svg>\n",
              "      </button>\n",
              "      \n",
              "  <style>\n",
              "    .colab-df-container {\n",
              "      display:flex;\n",
              "      flex-wrap:wrap;\n",
              "      gap: 12px;\n",
              "    }\n",
              "\n",
              "    .colab-df-convert {\n",
              "      background-color: #E8F0FE;\n",
              "      border: none;\n",
              "      border-radius: 50%;\n",
              "      cursor: pointer;\n",
              "      display: none;\n",
              "      fill: #1967D2;\n",
              "      height: 32px;\n",
              "      padding: 0 0 0 0;\n",
              "      width: 32px;\n",
              "    }\n",
              "\n",
              "    .colab-df-convert:hover {\n",
              "      background-color: #E2EBFA;\n",
              "      box-shadow: 0px 1px 2px rgba(60, 64, 67, 0.3), 0px 1px 3px 1px rgba(60, 64, 67, 0.15);\n",
              "      fill: #174EA6;\n",
              "    }\n",
              "\n",
              "    [theme=dark] .colab-df-convert {\n",
              "      background-color: #3B4455;\n",
              "      fill: #D2E3FC;\n",
              "    }\n",
              "\n",
              "    [theme=dark] .colab-df-convert:hover {\n",
              "      background-color: #434B5C;\n",
              "      box-shadow: 0px 1px 3px 1px rgba(0, 0, 0, 0.15);\n",
              "      filter: drop-shadow(0px 1px 2px rgba(0, 0, 0, 0.3));\n",
              "      fill: #FFFFFF;\n",
              "    }\n",
              "  </style>\n",
              "\n",
              "      <script>\n",
              "        const buttonEl =\n",
              "          document.querySelector('#df-32832513-8ecb-4ba2-bef6-2233d37dd0ba button.colab-df-convert');\n",
              "        buttonEl.style.display =\n",
              "          google.colab.kernel.accessAllowed ? 'block' : 'none';\n",
              "\n",
              "        async function convertToInteractive(key) {\n",
              "          const element = document.querySelector('#df-32832513-8ecb-4ba2-bef6-2233d37dd0ba');\n",
              "          const dataTable =\n",
              "            await google.colab.kernel.invokeFunction('convertToInteractive',\n",
              "                                                     [key], {});\n",
              "          if (!dataTable) return;\n",
              "\n",
              "          const docLinkHtml = 'Like what you see? Visit the ' +\n",
              "            '<a target=\"_blank\" href=https://colab.research.google.com/notebooks/data_table.ipynb>data table notebook</a>'\n",
              "            + ' to learn more about interactive tables.';\n",
              "          element.innerHTML = '';\n",
              "          dataTable['output_type'] = 'display_data';\n",
              "          await google.colab.output.renderOutput(dataTable, element);\n",
              "          const docLink = document.createElement('div');\n",
              "          docLink.innerHTML = docLinkHtml;\n",
              "          element.appendChild(docLink);\n",
              "        }\n",
              "      </script>\n",
              "    </div>\n",
              "  </div>\n",
              "  "
            ]
          },
          "metadata": {},
          "execution_count": 27
        }
      ]
    },
    {
      "cell_type": "markdown",
      "source": [
        "# **Visualizing by matplotlib**"
      ],
      "metadata": {
        "id": "vTCAIG8W54CD"
      }
    },
    {
      "cell_type": "code",
      "source": [
        "import matplotlib.pyplot as plt\n",
        "%matplotlib inline\n",
        "plt.rcParams.update({'font.size': 20})\n",
        "ax = candidate_data.plot.barh(title=\"Keywords in Resume according to category\", legend=False, figsize=(25,7), stacked=True)\n",
        "skills = []\n",
        "for j in candidate_data.columns:\n",
        "    for i in candidate_data.index:\n",
        "        skill = str(j)+\": \" + str(candidate_data.loc[i][j])\n",
        "        skills.append(skill)\n",
        "patches = ax.patches\n",
        "for skill, rect in zip(skills, patches):\n",
        "    width = rect.get_width()\n",
        "    if width > 0:\n",
        "        x = rect.get_x()\n",
        "        y = rect.get_y()\n",
        "        height = rect.get_height()\n",
        "        ax.text(x + width/2., y + height/2., skill, ha='center', va='center')\n",
        "plt.show()"
      ],
      "metadata": {
        "colab": {
          "base_uri": "https://localhost:8080/",
          "height": 198
        },
        "id": "cYEIpQSS4f5K",
        "outputId": "ebf1c036-41de-42a8-9724-b1653d4bd873"
      },
      "execution_count": null,
      "outputs": [
        {
          "output_type": "display_data",
          "data": {
            "text/plain": [
              "<Figure size 1800x504 with 1 Axes>"
            ],
            "image/png": "[encoded data removed]"
          },
          "metadata": {
            "needs_background": "light"
          }
        }
      ]
    },
    {
      "cell_type": "markdown",
      "source": [
        "# **References**\n",
        "\n",
        "    1.https://machinelearningmastery.com/develop-word-embeddings-python-gensim/\n",
        "\n",
        "    2.https://www.shanelynn.ie/word-embeddings-in-python-with-spacy-and-gensim/\n",
        "\n",
        "    3.https://app.sketchengine.eu/\n"
      ],
      "metadata": {
        "id": "8wgoq8kZ4oMA"
      }
    }
  ]
}